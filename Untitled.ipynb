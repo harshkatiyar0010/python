{
 "cells": [
  {
   "cell_type": "code",
   "execution_count": 5,
   "metadata": {},
   "outputs": [
    {
     "name": "stdout",
     "output_type": "stream",
     "text": [
      "7\n"
     ]
    }
   ],
   "source": [
    "num1= 3\n",
    "num2= 4\n",
    "result= num1+num2\n",
    "print(result)"
   ]
  },
  {
   "cell_type": "code",
   "execution_count": null,
   "metadata": {},
   "outputs": [],
   "source": []
  },
  {
   "cell_type": "code",
   "execution_count": 7,
   "metadata": {},
   "outputs": [
    {
     "name": "stdout",
     "output_type": "stream",
     "text": [
      "[1, 2.3, 'string', 'vikas', 'harsh', 'sanya']\n",
      "[1, 2.3, 'string', 'vikas', 'harsh', 'sanya', 5]\n"
     ]
    }
   ],
   "source": [
    "list1=[1,2.3,\"string\",'vikas','harsh',\"sanya\"]\n",
    "print(list1)\n",
    "list1.append(5)\n",
    "print(list1)\n"
   ]
  },
  {
   "cell_type": "code",
   "execution_count": 9,
   "metadata": {},
   "outputs": [
    {
     "name": "stdout",
     "output_type": "stream",
     "text": [
      "(1, 2, 3, 3.4, 'harsh', 'badassvikas', 'sanya')\n"
     ]
    }
   ],
   "source": [
    "tuple1=(1,2,3,3.4,\"harsh\",\"badassvikas\",\"sanya\")\n",
    "print(tuple1)\n"
   ]
  },
  {
   "cell_type": "code",
   "execution_count": null,
   "metadata": {},
   "outputs": [],
   "source": []
  },
  {
   "cell_type": "code",
   "execution_count": 10,
   "metadata": {},
   "outputs": [
    {
     "name": "stdout",
     "output_type": "stream",
     "text": [
      "{'name_of_school': 'DPS_barra', 'name_of_student': 'harsh_katiyar', 'class': 'eleventh'}\n",
      "harsh_katiyar\n"
     ]
    }
   ],
   "source": [
    "schooldict = {'name_of_school': 'DPS_barra','name_of_student':'harsh_katiyar','class':'eleventh'}\n",
    "print(schooldict)\n",
    "print(schooldict['name_of_student' ])"
   ]
  },
  {
   "cell_type": "code",
   "execution_count": null,
   "metadata": {},
   "outputs": [],
   "source": []
  },
  {
   "cell_type": "code",
   "execution_count": 11,
   "metadata": {},
   "outputs": [
    {
     "name": "stdout",
     "output_type": "stream",
     "text": [
      "indiahello\n"
     ]
    },
    {
     "data": {
      "text/plain": [
       "'indiaindiaindiaindia'"
      ]
     },
     "execution_count": 11,
     "metadata": {},
     "output_type": "execute_result"
    }
   ],
   "source": [
    "str1 = 'india'\n",
    "str2 = 'hello'\n",
    "r = str1 + str2\n",
    "print(r)\n",
    "\n",
    "str1 *4"
   ]
  },
  {
   "cell_type": "code",
   "execution_count": 12,
   "metadata": {},
   "outputs": [
    {
     "data": {
      "text/plain": [
       "2"
      ]
     },
     "execution_count": 12,
     "metadata": {},
     "output_type": "execute_result"
    }
   ],
   "source": [
    "num1=15\n",
    "num2=3\n",
    "num1%num2\n",
    "\n",
    "num1 = 20\n",
    "num2 = 10\n",
    "num1//num2"
   ]
  },
  {
   "cell_type": "code",
   "execution_count": 13,
   "metadata": {},
   "outputs": [
    {
     "name": "stdout",
     "output_type": "stream",
     "text": [
      "-10\n",
      "False\n"
     ]
    }
   ],
   "source": [
    "x = 10\n",
    "y = 20\n",
    "z = 10\n",
    "\"\"\"x = x - 2\"\"\"\n",
    "y -= 30\n",
    "print(y)\n",
    "\n",
    "print(x == y or z == y)"
   ]
  },
  {
   "cell_type": "code",
   "execution_count": 14,
   "metadata": {},
   "outputs": [
    {
     "name": "stdout",
     "output_type": "stream",
     "text": [
      "True\n",
      "10\n",
      "110\n",
      "False\n"
     ]
    }
   ],
   "source": [
    "a = 14\n",
    "b = 14\n",
    "c = 15\n",
    "print(not (a!= b or a== c))\n",
    "\n",
    "a -=4\n",
    "print(a)\n",
    "\n",
    "a+= 100\n",
    "print(a)\n",
    "\n",
    "\n",
    "A =4\n",
    "B =4 \n",
    "print(not (A==B))\n"
   ]
  },
  {
   "cell_type": "code",
   "execution_count": null,
   "metadata": {},
   "outputs": [],
   "source": []
  },
  {
   "cell_type": "code",
   "execution_count": 15,
   "metadata": {},
   "outputs": [
    {
     "name": "stdout",
     "output_type": "stream",
     "text": [
      "True\n",
      "False\n"
     ]
    }
   ],
   "source": [
    "numseq = (1,1,2,2,524,36,78,26,345,4,6,8,3,2,6) \n",
    "print(3 in numseq)\n",
    "print(400 in numseq)\n",
    "\n",
    "\n"
   ]
  },
  {
   "cell_type": "code",
   "execution_count": 16,
   "metadata": {},
   "outputs": [
    {
     "name": "stdout",
     "output_type": "stream",
     "text": [
      "enter_your_age: 12\n",
      "12\n"
     ]
    }
   ],
   "source": [
    "age = input(\"enter_your_age: \")\n",
    "print(age)"
   ]
  },
  {
   "cell_type": "markdown",
   "metadata": {},
   "source": []
  },
  {
   "cell_type": "code",
   "execution_count": null,
   "metadata": {},
   "outputs": [],
   "source": []
  },
  {
   "cell_type": "code",
   "execution_count": null,
   "metadata": {},
   "outputs": [],
   "source": []
  }
 ],
 "metadata": {
  "kernelspec": {
   "display_name": "Python 3",
   "language": "python",
   "name": "python3"
  },
  "language_info": {
   "codemirror_mode": {
    "name": "ipython",
    "version": 3
   },
   "file_extension": ".py",
   "mimetype": "text/x-python",
   "name": "python",
   "nbconvert_exporter": "python",
   "pygments_lexer": "ipython3",
   "version": "3.8.5"
  }
 },
 "nbformat": 4,
 "nbformat_minor": 4
}
