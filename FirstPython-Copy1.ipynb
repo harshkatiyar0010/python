{
 "cells": [
  {
   "cell_type": "code",
   "execution_count": 2,
   "metadata": {},
   "outputs": [
    {
     "name": "stdout",
     "output_type": "stream",
     "text": [
      "Harsh katiyar\n"
     ]
    }
   ],
   "source": [
    "print(\"Harsh katiyar\")"
   ]
  },
  {
   "cell_type": "code",
   "execution_count": 10,
   "metadata": {},
   "outputs": [
    {
     "name": "stdout",
     "output_type": "stream",
     "text": [
      "enter your first name:harsh\n",
      "enter ypur age:16\n"
     ]
    },
    {
     "data": {
      "text/plain": [
       "int"
      ]
     },
     "execution_count": 10,
     "metadata": {},
     "output_type": "execute_result"
    }
   ],
   "source": [
    "fname = input(\"enter your first name:\")\n",
    "age = int(input(\"enter ypur age:\"))\n",
    "type(age)"
   ]
  },
  {
   "cell_type": "code",
   "execution_count": 15,
   "metadata": {},
   "outputs": [
    {
     "name": "stdout",
     "output_type": "stream",
     "text": [
      "11.0\n"
     ]
    }
   ],
   "source": [
    "num1 = 10\n",
    "num2 = 12\n",
    "average = (10 + 12)/2\n",
    "print(average)\n",
    "\n"
   ]
  },
  {
   "cell_type": "code",
   "execution_count": 36,
   "metadata": {},
   "outputs": [
    {
     "name": "stdout",
     "output_type": "stream",
     "text": [
      "8.0\n"
     ]
    }
   ],
   "source": [
    "def simpleInterest(p, r, t):\n",
    "    result = p * r * t/100\n",
    "    return result\n",
    "    \n",
    "value = simpleInterest(200, 2, 2)\n",
    "\n",
    "print(value)"
   ]
  },
  {
   "cell_type": "code",
   "execution_count": 48,
   "metadata": {},
   "outputs": [
    {
     "name": "stdout",
     "output_type": "stream",
     "text": [
      "35\n"
     ]
    }
   ],
   "source": [
    "def xsquare(x):\n",
    "    result = x*x + 10\n",
    "    return result\n",
    "\n",
    "answer = xsquare(5)\n",
    "print(answer)"
   ]
  },
  {
   "cell_type": "code",
   "execution_count": 60,
   "metadata": {},
   "outputs": [
    {
     "name": "stdout",
     "output_type": "stream",
     "text": [
      "61\n"
     ]
    }
   ],
   "source": [
    "def  addsquare(x,y):\n",
    "    result = x*x + y*y\n",
    "    return result\n",
    "\n",
    "answer = addsquare(5,6)\n",
    "print(answer)"
   ]
  },
  {
   "cell_type": "code",
   "execution_count": 62,
   "metadata": {},
   "outputs": [
    {
     "name": "stdout",
     "output_type": "stream",
     "text": [
      "180\n"
     ]
    }
   ],
   "source": [
    "def variables(m,n):\n",
    "    result = m*n*n + m*m*n\n",
    "    return result\n",
    "\n",
    "answer = variables(5,4)\n",
    "print(answer)"
   ]
  },
  {
   "cell_type": "code",
   "execution_count": 14,
   "metadata": {},
   "outputs": [
    {
     "name": "stdout",
     "output_type": "stream",
     "text": [
      "enter your age34\n",
      "eligble to vote\n"
     ]
    }
   ],
   "source": [
    "age = int(input(\"enter your age\"))\n",
    "if age >= 18: #use this ':' to end of condition.\n",
    "    print(\"eligble to vote\")"
   ]
  },
  {
   "cell_type": "code",
   "execution_count": 9,
   "metadata": {},
   "outputs": [
    {
     "name": "stdout",
     "output_type": "stream",
     "text": [
      "130\n"
     ]
    }
   ],
   "source": [
    "def variable(x,y):\n",
    "    result = x*x + y*y\n",
    "    return result\n",
    "\n",
    "answer = variable(11,3)\n",
    "                  \n",
    "print(answer)\n",
    "\n"
   ]
  },
  {
   "cell_type": "code",
   "execution_count": 7,
   "metadata": {},
   "outputs": [
    {
     "name": "stdout",
     "output_type": "stream",
     "text": [
      "enter first number:23\n",
      "enter second number:43\n",
      "the difference of 23 and 43 is 20\n"
     ]
    }
   ],
   "source": [
    "num1 = int(input(\"enter first number:\"))\n",
    "num2 = int(input(\"enter second number:\"))\n",
    "if num1>num2:\n",
    "    diff = num1 - num2\n",
    "else:\n",
    "    diff = num2 - num1\n",
    "\n",
    "print(\"the difference of\",num1, \"and\",num2,\"is\",diff)\n",
    "\n"
   ]
  },
  {
   "cell_type": "code",
   "execution_count": 12,
   "metadata": {},
   "outputs": [
    {
     "name": "stdout",
     "output_type": "stream",
     "text": [
      "enter first no:130\n",
      "enter second no:34\n",
      "the difference of 130 and 34 is 96\n"
     ]
    }
   ],
   "source": [
    "num1 = int(input(\"enter first no:\"))\n",
    "num2 = int(input(\"enter second no:\"))\n",
    "if num1>num2:\n",
    "    diff =num1 - num2\n",
    "else:\n",
    "    diff = num2 - num1\n",
    "print(\"the difference of\",num1,\"and\",num2,\"is\",diff)"
   ]
  },
  {
   "cell_type": "code",
   "execution_count": 26,
   "metadata": {},
   "outputs": [
    {
     "name": "stdout",
     "output_type": "stream",
     "text": [
      "True\n",
      "False\n",
      "<class 'str'>\n"
     ]
    }
   ],
   "source": [
    "numseq = [1,4,2,3]\n",
    "print(2 in numseq)\n",
    "print(\"1\" in numseq)\n",
    "print (type(\"1\"))\n",
    "     \n",
    "\n"
   ]
  },
  {
   "cell_type": "code",
   "execution_count": 74,
   "metadata": {
    "scrolled": true
   },
   "outputs": [
    {
     "name": "stdout",
     "output_type": "stream",
     "text": [
      "1st number : 30\n",
      "2nd number : 70\n",
      "the difference of 30 and 70 is -40\n"
     ]
    }
   ],
   "source": [
    "#program to subtract smaller number from the larger number and display the difference\n",
    "\n",
    "b = int(input(\"1st number : \"))\n",
    "a = int(input(\"2nd number : \"))\n",
    "       \n",
    "if b>a:\n",
    "    diff = b - a\n",
    "        \n",
    "else:\n",
    "    diff  = (b-a)\n",
    "print(\"the difference of\", b,\"and\",a,\"is\",diff)\n"
   ]
  },
  {
   "cell_type": "code",
   "execution_count": 81,
   "metadata": {},
   "outputs": [
    {
     "name": "stdout",
     "output_type": "stream",
     "text": [
      "enter first number : -11\n",
      "the number is negative\n"
     ]
    }
   ],
   "source": [
    "num1 = int(input(\"enter first number : \"))\n",
    "\n",
    "if num1 >0:\n",
    "\n",
    "    print(\"the number is positive\")\n",
    "elif num1<0:\n",
    "    print(\"the number is negative\")\n",
    "\n",
    "\n",
    "else :\n",
    "    print(\"the no is zero\")\n",
    "    "
   ]
  },
  {
   "cell_type": "code",
   "execution_count": null,
   "metadata": {},
   "outputs": [],
   "source": [
    "ins"
   ]
  },
  {
   "cell_type": "code",
   "execution_count": null,
   "metadata": {},
   "outputs": [],
   "source": []
  }
 ],
 "metadata": {
  "kernelspec": {
   "display_name": "Python 3",
   "language": "python",
   "name": "python3"
  },
  "language_info": {
   "codemirror_mode": {
    "name": "ipython",
    "version": 3
   },
   "file_extension": ".py",
   "mimetype": "text/x-python",
   "name": "python",
   "nbconvert_exporter": "python",
   "pygments_lexer": "ipython3",
   "version": "3.8.5"
  }
 },
 "nbformat": 4,
 "nbformat_minor": 4
}
